{
  "nbformat": 4,
  "nbformat_minor": 0,
  "metadata": {
    "colab": {
      "provenance": [],
      "authorship_tag": "ABX9TyM6QbBHdIjqgRr0plibIIEf",
      "include_colab_link": true
    },
    "kernelspec": {
      "name": "python3",
      "display_name": "Python 3"
    },
    "language_info": {
      "name": "python"
    }
  },
  "cells": [
    {
      "cell_type": "markdown",
      "metadata": {
        "id": "view-in-github",
        "colab_type": "text"
      },
      "source": [
        "<a href=\"https://colab.research.google.com/github/ArnabAdhikar/GFG/blob/main/Tenserflow_1.ipynb\" target=\"_parent\"><img src=\"https://colab.research.google.com/assets/colab-badge.svg\" alt=\"Open In Colab\"/></a>"
      ]
    },
    {
      "cell_type": "code",
      "source": [
        "## Basics of Tenserflow"
      ],
      "metadata": {
        "id": "8_f7pVmfsldO"
      },
      "execution_count": 34,
      "outputs": []
    },
    {
      "cell_type": "code",
      "execution_count": 10,
      "metadata": {
        "id": "BZdbeEpdjpIF"
      },
      "outputs": [],
      "source": [
        "import tensorflow as tf"
      ]
    },
    {
      "cell_type": "code",
      "source": [
        "# initialization of tensors\n",
        "x = tf.constant(10)\n",
        "print(x)\n",
        "y = tf.constant(20, shape=(1,1), dtype=tf.float32)\n",
        "print(y)\n",
        "z = tf.constant([[1,2,3],[4,5,6]], shape=(2,3))\n",
        "print(z)\n",
        "# Automatic initializations\n",
        "a = tf.ones((3,3))\n",
        "print(a)\n",
        "b = tf.zeros((2,2))\n",
        "print(b)\n",
        "c = tf.eye(3)\n",
        "print(c)\n",
        "# normal distribution\n",
        "d = tf.random.normal((3,3), mean = 0, stddev=1)\n",
        "print(d)\n",
        "# uniform distribution\n",
        "e = tf.random.uniform((3,3), minval=0, maxval=1)\n",
        "print(e)\n",
        "f = tf.range(start=1, limit=10, delta=2)\n",
        "print(f)\n",
        "# conversion into specific type\n",
        "f = tf.cast(f, dtype=tf.float64)\n",
        "print(f)"
      ],
      "metadata": {
        "colab": {
          "base_uri": "https://localhost:8080/"
        },
        "id": "m_jq1lenkA7L",
        "outputId": "55ac3772-7f06-4f48-dbc6-16577da5d546"
      },
      "execution_count": null,
      "outputs": [
        {
          "output_type": "stream",
          "name": "stdout",
          "text": [
            "tf.Tensor(10, shape=(), dtype=int32)\n",
            "tf.Tensor([[20.]], shape=(1, 1), dtype=float32)\n",
            "tf.Tensor(\n",
            "[[1 2 3]\n",
            " [4 5 6]], shape=(2, 3), dtype=int32)\n",
            "tf.Tensor(\n",
            "[[1. 1. 1.]\n",
            " [1. 1. 1.]\n",
            " [1. 1. 1.]], shape=(3, 3), dtype=float32)\n",
            "tf.Tensor(\n",
            "[[0. 0.]\n",
            " [0. 0.]], shape=(2, 2), dtype=float32)\n",
            "tf.Tensor(\n",
            "[[1. 0. 0.]\n",
            " [0. 1. 0.]\n",
            " [0. 0. 1.]], shape=(3, 3), dtype=float32)\n",
            "tf.Tensor(\n",
            "[[-0.25187486 -1.09488    -1.2205842 ]\n",
            " [ 0.97187275 -0.3429392  -2.0305488 ]\n",
            " [-0.06779862 -0.15545264  1.3298414 ]], shape=(3, 3), dtype=float32)\n",
            "tf.Tensor(\n",
            "[[0.91279256 0.9809538  0.39092577]\n",
            " [0.35951173 0.8451289  0.71151304]\n",
            " [0.6949127  0.2904048  0.07404435]], shape=(3, 3), dtype=float32)\n",
            "tf.Tensor([1 3 5 7 9], shape=(5,), dtype=int32)\n",
            "tf.Tensor([1. 3. 5. 7. 9.], shape=(5,), dtype=float64)\n"
          ]
        }
      ]
    },
    {
      "cell_type": "code",
      "source": [
        "# Mathematical operations\n",
        "x = tf.constant([1,2,3])\n",
        "y = tf.constant([9,8,7])\n",
        "# adding\n",
        "z = x+y\n",
        "print(z)\n",
        "# subtraction\n",
        "z = x-y\n",
        "print(z)\n",
        "# multiplication\n",
        "z = x*y\n",
        "print(z)\n",
        "# division\n",
        "z = x/y\n",
        "print(z)\n",
        "# dot product\n",
        "z = tf.tensordot(x, y, axes=1)\n",
        "print(z)\n",
        "# element wise exponentiation\n",
        "z = x**5\n",
        "print(z)"
      ],
      "metadata": {
        "id": "zBsINQEnkFOx",
        "colab": {
          "base_uri": "https://localhost:8080/"
        },
        "outputId": "33d00e90-ab91-4b53-b1ea-6721c4d741d7"
      },
      "execution_count": 19,
      "outputs": [
        {
          "output_type": "stream",
          "name": "stdout",
          "text": [
            "tf.Tensor([10 10 10], shape=(3,), dtype=int32)\n",
            "tf.Tensor([-8 -6 -4], shape=(3,), dtype=int32)\n",
            "tf.Tensor([ 9 16 21], shape=(3,), dtype=int32)\n",
            "tf.Tensor([0.11111111 0.25       0.42857143], shape=(3,), dtype=float64)\n",
            "tf.Tensor(46, shape=(), dtype=int32)\n",
            "tf.Tensor([  1  32 243], shape=(3,), dtype=int32)\n"
          ]
        }
      ]
    },
    {
      "cell_type": "code",
      "source": [
        "# matrix multiply\n",
        "x = tf.random.normal((2,3))\n",
        "y = tf.random.normal((3,4))\n",
        "z = tf.matmul(x,y)\n",
        "print(z)\n",
        "z = x @ y\n",
        "print(z)"
      ],
      "metadata": {
        "colab": {
          "base_uri": "https://localhost:8080/"
        },
        "id": "9QTYOfeppC2S",
        "outputId": "494609dc-46ad-4643-ee5e-356fc68fb55a"
      },
      "execution_count": 21,
      "outputs": [
        {
          "output_type": "stream",
          "name": "stdout",
          "text": [
            "tf.Tensor(\n",
            "[[-1.3873882  -0.26949722 -2.798253    0.26130012]\n",
            " [-0.3659125   0.05167973 -1.3943477   0.35778937]], shape=(2, 4), dtype=float32)\n",
            "tf.Tensor(\n",
            "[[-1.3873882  -0.26949722 -2.798253    0.26130012]\n",
            " [-0.3659125   0.05167973 -1.3943477   0.35778937]], shape=(2, 4), dtype=float32)\n"
          ]
        }
      ]
    },
    {
      "cell_type": "code",
      "source": [
        "# indexing a tensor\n",
        "x = tf.constant([0,1,1,2,3,1,2,3])\n",
        "# prints all the element\n",
        "print(x[:])\n",
        "# Exclude the first element\n",
        "print(x[1:])\n",
        "print(x[1:3])\n",
        "# skipping elements\n",
        "print(x[::2])\n",
        "# print in reverse order\n",
        "print(x[::-1])"
      ],
      "metadata": {
        "id": "iHy7H1rjkJ6t",
        "colab": {
          "base_uri": "https://localhost:8080/"
        },
        "outputId": "ec665128-caf1-419b-dcd3-d0e775183708"
      },
      "execution_count": 29,
      "outputs": [
        {
          "output_type": "stream",
          "name": "stdout",
          "text": [
            "tf.Tensor([0 1 1 2 3 1 2 3], shape=(8,), dtype=int32)\n",
            "tf.Tensor([1 1 2 3 1 2 3], shape=(7,), dtype=int32)\n",
            "tf.Tensor([1 1], shape=(2,), dtype=int32)\n",
            "tf.Tensor([0 1 3 2], shape=(4,), dtype=int32)\n",
            "tf.Tensor([3 2 1 3 2 1 1 0], shape=(8,), dtype=int32)\n"
          ]
        }
      ]
    },
    {
      "cell_type": "code",
      "source": [
        "# gathering elements of specific indices\n",
        "indices = tf.constant([0,3])\n",
        "x_ind = tf.gather(x, indices)\n",
        "print(x_ind)"
      ],
      "metadata": {
        "colab": {
          "base_uri": "https://localhost:8080/"
        },
        "id": "H2cIDXIIqgfl",
        "outputId": "de478d03-6d29-4340-d5fa-3b5600c2492c"
      },
      "execution_count": 30,
      "outputs": [
        {
          "output_type": "stream",
          "name": "stdout",
          "text": [
            "tf.Tensor([0 2], shape=(2,), dtype=int32)\n"
          ]
        }
      ]
    },
    {
      "cell_type": "code",
      "source": [
        "# same operations on matrix\n",
        "x = tf.constant([[1,2],\n",
        "                  [3,4],\n",
        "                  [5,6]])\n",
        "indices = tf.constant([0,2])\n",
        "x_ind = tf.gather(x, indices)\n",
        "print(x_ind)\n",
        "# only 1st row\n",
        "print(x[0,:])\n",
        "# only first 2\n",
        "print(x[0:2,:])"
      ],
      "metadata": {
        "colab": {
          "base_uri": "https://localhost:8080/"
        },
        "id": "hy0qNJJjrx9n",
        "outputId": "94fd3728-b519-4092-c148-03aa764ca7a4"
      },
      "execution_count": 31,
      "outputs": [
        {
          "output_type": "stream",
          "name": "stdout",
          "text": [
            "tf.Tensor(\n",
            "[[1 2]\n",
            " [5 6]], shape=(2, 2), dtype=int32)\n",
            "tf.Tensor([1 2], shape=(2,), dtype=int32)\n",
            "tf.Tensor(\n",
            "[[1 2]\n",
            " [3 4]], shape=(2, 2), dtype=int32)\n"
          ]
        }
      ]
    },
    {
      "cell_type": "code",
      "source": [
        "# Reshaping a tensors\n",
        "x = tf.range(9)\n",
        "print(x)\n",
        "x = tf.reshape(x, (3,3))\n",
        "print(x)"
      ],
      "metadata": {
        "id": "KHLnbM4_kNBa",
        "colab": {
          "base_uri": "https://localhost:8080/"
        },
        "outputId": "ae8e5a73-8121-4f4a-8f43-ee2504571ffc"
      },
      "execution_count": 32,
      "outputs": [
        {
          "output_type": "stream",
          "name": "stdout",
          "text": [
            "tf.Tensor([0 1 2 3 4 5 6 7 8], shape=(9,), dtype=int32)\n",
            "tf.Tensor(\n",
            "[[0 1 2]\n",
            " [3 4 5]\n",
            " [6 7 8]], shape=(3, 3), dtype=int32)\n"
          ]
        }
      ]
    },
    {
      "cell_type": "code",
      "source": [
        "# Matrix transposition\n",
        "x = tf.transpose(x, perm=[1,0])\n",
        "print(x)"
      ],
      "metadata": {
        "id": "yRnosbbikPwT",
        "colab": {
          "base_uri": "https://localhost:8080/"
        },
        "outputId": "ef1e11ac-25a1-4db8-8165-5cf3f8b083bb"
      },
      "execution_count": 33,
      "outputs": [
        {
          "output_type": "stream",
          "name": "stdout",
          "text": [
            "tf.Tensor(\n",
            "[[0 3 6]\n",
            " [1 4 7]\n",
            " [2 5 8]], shape=(3, 3), dtype=int32)\n"
          ]
        }
      ]
    }
  ]
}